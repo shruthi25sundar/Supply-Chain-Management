{
 "cells": [
  {
   "cell_type": "code",
   "execution_count": 1,
   "id": "99778da1-1f33-4649-a454-386bd5fb9e88",
   "metadata": {},
   "outputs": [],
   "source": [
    "import pandas as pd\n",
    "import numpy as np\n",
    "from openai import OpenAI\n",
    "\n",
    "client = OpenAI()"
   ]
  },
  {
   "cell_type": "code",
   "execution_count": 2,
   "id": "fdf2982d-3f32-46e9-9106-09f3092f9778",
   "metadata": {},
   "outputs": [],
   "source": [
    "# import os\n",
    "\n",
    "# from groq import Groq\n",
    "\n",
    "# client = Groq(\n",
    "#     api_key=os.environ.get(\"GROQ_API_KEY\"),\n",
    "# )"
   ]
  },
  {
   "cell_type": "code",
   "execution_count": 1,
   "id": "9cfd4679-ce08-4767-8cd5-2d80ed6ecf0e",
   "metadata": {},
   "outputs": [],
   "source": [
    "# import pandas as pd\n",
    "# import numpy as np\n",
    "# import os\n",
    "# import requests\n",
    "# import json\n",
    "\n",
    "# # Get the Hugging Face API key from the environment\n",
    "# api_key = os.getenv('HUGGINGFACE_API_KEY')\n",
    "\n",
    "# # Set up the API URL and headers for Hugging Face\n",
    "# API_URL = \"https://api-inference.huggingface.co/models/gpt2\"\n",
    "# headers = {\"Authorization\": f\"Bearer {api_key}\"}"
   ]
  },
  {
   "cell_type": "code",
   "execution_count": 2,
   "id": "a73537b0-6629-4f3e-868e-8951456d9cc3",
   "metadata": {},
   "outputs": [],
   "source": [
    "df = pd.read_csv(r\"/workspaces/Supply-Chain-Management/Data/supplier_contracts_dataset.csv\")\n",
    "df = df.replace({np.nan: None})\n",
    "\n",
    "documents = df.to_dict(orient='records')"
   ]
  },
  {
   "cell_type": "code",
   "execution_count": 5,
   "id": "c7d771bf-ea21-41bb-9321-8820a76f09c4",
   "metadata": {},
   "outputs": [],
   "source": [
    "import json\n",
    "from tqdm.auto import tqdm\n",
    "\n",
    "# Adjust the prompt template for supplier contracts\n",
    "prompt_template = \"\"\"\n",
    "You emulate a procurement analyst using our supplier contracts assistant application.\n",
    "Formulate 5 specific questions this analyst might ask based on a provided contract record.\n",
    "The questions should be specific to the contract and should avoid repeating too many words from the record.\n",
    "\n",
    "The record:\n",
    "\n",
    "ContractType: {contracttype}\n",
    "SupplierName: {suppliername}\n",
    "RiskLevel: {risklevel}\n",
    "ComplianceIssues: {complianceissues}\n",
    "KeyTerms: {keyterms}\n",
    "NegotiationRecommendation: {negotiationrecommendation}\n",
    "\n",
    "Provide the output in parsable JSON without using code blocks:\n",
    "\n",
    "{{\"questions\": [\"question1\", \"question2\", ..., \"question5\"]}}\n",
    "\"\"\".strip()\n",
    "\n",
    "Function to generate questions based on a contract document\n",
    "def generate_questions(doc):\n",
    "    prompt = prompt_template.format(\n",
    "        contracttype=doc['contracttype'],\n",
    "        suppliername=doc['suppliername'],\n",
    "        risklevel=doc['risklevel'],\n",
    "        complianceissues=doc['complianceissues'],\n",
    "        keyterms=doc['keyterms'],\n",
    "        negotiationrecommendation=doc['negotiationrecommendation']\n",
    "    )\n",
    "    return llm(prompt)\n",
    "\n",
    "# Function to call the LLM and generate responses\n",
    "def llm(prompt):\n",
    "    response = client.chat.completions.create(\n",
    "        model='gpt-3.5-turbo',  # Adjust the model name if needed\n",
    "        messages=[{\"role\": \"user\", \"content\": prompt}]\n",
    "    )\n",
    "    return response.choices[0].message.content\n",
    "\n",
    "# Assuming 'documents' is your list of contract records\n",
    "results = {}\n",
    "\n",
    "# Loop through each contract document and generate questions\n",
    "for doc in tqdm(documents):\n",
    "    doc_id = doc['contractid']\n",
    "    if doc_id in results:\n",
    "        continue\n",
    "\n",
    "    # Generate questions and parse the result\n",
    "    questions_raw = generate_questions(doc)\n",
    "    questions = json.loads(questions_raw)\n",
    "    results[doc_id] = questions['questions']\n",
    "\n",
    "# Prepare the final results in a DataFrame\n",
    "final_results = []\n",
    "\n",
    "for doc_id, questions in results.items():\n",
    "    for q in questions:\n",
    "        final_results.append((doc_id, q))\n",
    "\n",
    "# Convert the results to a DataFrame\n",
    "df_results = pd.DataFrame(final_results, columns=['contractid', 'question'])\n",
    "\n"
   ]
  },
  {
   "cell_type": "code",
   "execution_count": null,
   "id": "d06ecba2-b00f-4c0e-ad71-dbf5d01dc7ac",
   "metadata": {},
   "outputs": [],
   "source": [
    "df_results = pd.DataFrame(final_results, columns=['contractid', 'question'])"
   ]
  }
 ],
 "metadata": {
  "kernelspec": {
   "display_name": "Python 3 (ipykernel)",
   "language": "python",
   "name": "python3"
  },
  "language_info": {
   "codemirror_mode": {
    "name": "ipython",
    "version": 3
   },
   "file_extension": ".py",
   "mimetype": "text/x-python",
   "name": "python",
   "nbconvert_exporter": "python",
   "pygments_lexer": "ipython3",
   "version": "3.12.1"
  }
 },
 "nbformat": 4,
 "nbformat_minor": 5
}

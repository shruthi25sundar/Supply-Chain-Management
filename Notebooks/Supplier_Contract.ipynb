{
 "cells": [
  {
   "cell_type": "code",
   "execution_count": 1,
   "id": "8d9b16e8-270c-4400-a05b-8ff32a69a591",
   "metadata": {},
   "outputs": [],
   "source": [
    "import pandas as pd\n",
    "import numpy as np"
   ]
  },
  {
   "cell_type": "code",
   "execution_count": 2,
   "id": "0882f38e-bfb0-4a6d-8e86-b800e487995b",
   "metadata": {},
   "outputs": [],
   "source": [
    "df = pd.read_csv(r\"/workspaces/Supply-Chain-Management/Data/supplier_contracts_dataset.csv\")\n",
    "df = df.replace({np.nan: None})\n",
    "\n",
    "# Convert only the relevant text-based fields to string\n",
    "text_fields = ['contracttype', 'suppliername', 'risklevel', 'complianceissues', 'keyterms', 'negotiationrecommendation']\n",
    "\n",
    "# Ensure the specified text fields are strings\n",
    "for field in text_fields:\n",
    "    df[field] = df[field].astype(str)"
   ]
  },
  {
   "cell_type": "markdown",
   "id": "c72f92f7-1a8a-4269-8b50-73344ed859c7",
   "metadata": {},
   "source": [
    "**MINSEARCH**"
   ]
  },
  {
   "cell_type": "code",
   "execution_count": 3,
   "id": "e6183ad8-eecb-4b0c-89d5-88e50fcd868d",
   "metadata": {},
   "outputs": [],
   "source": [
    "# df.columns = df.columns.str.lower()\n",
    "# df.to_csv(r\"/workspaces/Supply-Chain-Management/Data/supplier_contracts_dataset.csv\",index=False)"
   ]
  },
  {
   "cell_type": "code",
   "execution_count": 4,
   "id": "52a10368-dd4e-4f83-b5c1-0188e0a964d3",
   "metadata": {},
   "outputs": [],
   "source": [
    "documents = df.to_dict(orient='records')"
   ]
  },
  {
   "cell_type": "markdown",
   "id": "300178f7-1cb6-46de-8d96-5375400164ea",
   "metadata": {},
   "source": [
    "Get top 10 list of high risk level contracts"
   ]
  },
  {
   "cell_type": "code",
   "execution_count": 5,
   "id": "43b9cd5b-c404-476c-9390-2bf2f2dc600f",
   "metadata": {},
   "outputs": [
    {
     "name": "stdout",
     "output_type": "stream",
     "text": [
      "{'contractid': 9969, 'datesigned': '2024-05-19', 'contracttype': 'Manufacturing Agreement', 'suppliername': 'Supplier_9969', 'risklevel': 'High', 'complianceissues': 'Late Delivery', 'keyterms': 'Payment within 30 days', 'pastperformancescore': 7, 'negotiationrecommendation': 'Seek alternative suppliers'}\n",
      "{'contractid': 10000, 'datesigned': '2023-04-18', 'contracttype': 'Service Agreement', 'suppliername': 'Supplier_10000', 'risklevel': 'High', 'complianceissues': 'Non-Compliance with Standards', 'keyterms': 'Regular performance reviews', 'pastperformancescore': 3, 'negotiationrecommendation': 'Renegotiate payment terms'}\n",
      "{'contractid': 9999, 'datesigned': '2023-09-08', 'contracttype': 'Procurement Contract', 'suppliername': 'Supplier_9999', 'risklevel': 'High', 'complianceissues': 'Payment Issues', 'keyterms': 'Payment within 30 days', 'pastperformancescore': 9, 'negotiationrecommendation': 'Include compliance monitoring'}\n",
      "{'contractid': 9998, 'datesigned': '2024-01-26', 'contracttype': 'Manufacturing Agreement', 'suppliername': 'Supplier_9998', 'risklevel': 'High', 'complianceissues': 'Payment Issues', 'keyterms': 'Regular performance reviews', 'pastperformancescore': 4, 'negotiationrecommendation': 'Adjust delivery schedules'}\n",
      "{'contractid': 9994, 'datesigned': '2024-06-05', 'contracttype': 'Procurement Contract', 'suppliername': 'Supplier_9994', 'risklevel': 'High', 'complianceissues': 'Substandard Quality', 'keyterms': 'Penalty for late delivery', 'pastperformancescore': 1, 'negotiationrecommendation': 'Renegotiate payment terms'}\n",
      "{'contractid': 9991, 'datesigned': '2023-06-10', 'contracttype': 'Supply Agreement', 'suppliername': 'Supplier_9991', 'risklevel': 'High', 'complianceissues': 'Payment Issues', 'keyterms': 'Arbitration in case of disputes', 'pastperformancescore': 2, 'negotiationrecommendation': 'Seek alternative suppliers'}\n",
      "{'contractid': 9990, 'datesigned': '2023-05-14', 'contracttype': 'Manufacturing Agreement', 'suppliername': 'Supplier_9990', 'risklevel': 'High', 'complianceissues': 'Payment Issues', 'keyterms': 'Delivery within 60 days', 'pastperformancescore': 5, 'negotiationrecommendation': 'Adjust delivery schedules'}\n",
      "{'contractid': 9988, 'datesigned': '2023-04-01', 'contracttype': 'Procurement Contract', 'suppliername': 'Supplier_9988', 'risklevel': 'High', 'complianceissues': 'Non-Compliance with Standards', 'keyterms': 'Arbitration in case of disputes', 'pastperformancescore': 5, 'negotiationrecommendation': 'Renegotiate payment terms'}\n",
      "{'contractid': 9986, 'datesigned': '2023-01-19', 'contracttype': 'Service Agreement', 'suppliername': 'Supplier_9986', 'risklevel': 'High', 'complianceissues': 'Late Delivery', 'keyterms': 'Regular performance reviews', 'pastperformancescore': 5, 'negotiationrecommendation': 'Adjust delivery schedules'}\n",
      "{'contractid': 9985, 'datesigned': '2023-06-06', 'contracttype': 'Manufacturing Agreement', 'suppliername': 'Supplier_9985', 'risklevel': 'High', 'complianceissues': 'None', 'keyterms': 'Payment within 30 days', 'pastperformancescore': 1, 'negotiationrecommendation': 'Seek alternative suppliers'}\n"
     ]
    }
   ],
   "source": [
    "import minsearch\n",
    "\n",
    "# Create an index\n",
    "index = minsearch.Index(\n",
    "    text_fields=text_fields,\n",
    "    keyword_fields=[]\n",
    ")\n",
    "\n",
    "# Fit the index with the documents\n",
    "index.fit(documents)\n",
    "\n",
    "# Example search query\n",
    "query = \"high risk level\"\n",
    "results = index.search(query, num_results=10)\n",
    "\n",
    "# Print results\n",
    "for result in results:\n",
    "    print(result)"
   ]
  },
  {
   "cell_type": "markdown",
   "id": "70c74c41-7f4e-4e5b-b043-cb561d3545ff",
   "metadata": {},
   "source": [
    "Get the Contract types that has high risk and their count"
   ]
  },
  {
   "cell_type": "code",
   "execution_count": 6,
   "id": "884b4c83-5084-4261-8294-d96ccc7d5f74",
   "metadata": {},
   "outputs": [
    {
     "name": "stdout",
     "output_type": "stream",
     "text": [
      "Count of each contract type with high risk level:\n",
      "Service Agreement: 694\n",
      "Distribution Agreement: 676\n",
      "Supply Agreement: 701\n",
      "Manufacturing Agreement: 688\n",
      "Procurement Contract: 675\n"
     ]
    }
   ],
   "source": [
    "import minsearch\n",
    "from collections import Counter\n",
    "# Create an index\n",
    "index = minsearch.Index(\n",
    "    text_fields=text_fields,\n",
    "    keyword_fields=['risklevel']\n",
    ")\n",
    "\n",
    "# Fit the index with the documents\n",
    "index.fit(documents)\n",
    "\n",
    "# Perform the search for high-risk level contracts\n",
    "filter_dict = {'risklevel': 'High'}\n",
    "results = index.search(query='high risk level', filter_dict=filter_dict, num_results=len(documents))\n",
    "\n",
    "# Extract and print contract types with high risk level\n",
    "high_risk_contract_types = [result['contracttype'] for result in results]\n",
    "\n",
    "# Count the occurrences of each contract type\n",
    "contract_type_counts = Counter(high_risk_contract_types)\n",
    "\n",
    "# Print the count of each contract type\n",
    "print(\"Count of each contract type with high risk level:\")\n",
    "for contract_type, count in contract_type_counts.items():\n",
    "    print(f\"{contract_type}: {count}\")"
   ]
  },
  {
   "cell_type": "markdown",
   "id": "1cba7a3d-375a-446f-99f1-784b93b04861",
   "metadata": {},
   "source": [
    "**GROQ API**"
   ]
  },
  {
   "cell_type": "code",
   "execution_count": 7,
   "id": "db3d1c76-4468-437e-95b9-14c9679ae545",
   "metadata": {},
   "outputs": [],
   "source": [
    "from openai import OpenAI\n",
    "\n",
    "client = OpenAI()"
   ]
  },
  {
   "cell_type": "code",
   "execution_count": 8,
   "id": "2c7233f2-e8f3-42ed-81bc-feaaaf5ec6b7",
   "metadata": {},
   "outputs": [
    {
     "data": {
      "text/plain": [
       "Index(['contractid', 'datesigned', 'contracttype', 'suppliername', 'risklevel',\n",
       "       'complianceissues', 'keyterms', 'pastperformancescore',\n",
       "       'negotiationrecommendation'],\n",
       "      dtype='object')"
      ]
     },
     "execution_count": 8,
     "metadata": {},
     "output_type": "execute_result"
    }
   ],
   "source": [
    "df.columns"
   ]
  },
  {
   "cell_type": "code",
   "execution_count": 11,
   "id": "bb1d5ed6-396f-4aa2-a6d8-17284a8064bf",
   "metadata": {},
   "outputs": [
    {
     "name": "stdout",
     "output_type": "stream",
     "text": [
      "Here are various high-risk contract types along with their respective negotiation recommendations:\n",
      "\n",
      "### 1. Manufacturing Agreement\n",
      "- **SupplierName**: Supplier_1\n",
      "- **RiskLevel**: High\n",
      "- **ComplianceIssues**: Substandard Quality\n",
      "- **KeyTerms**: Penalty for late delivery\n",
      "- **NegotiationRecommendation**: Adjust delivery schedules\n",
      "\n",
      "### 2. Distribution Agreement\n",
      "- **SupplierName**: Supplier_4\n",
      "- **RiskLevel**: High\n",
      "- **ComplianceIssues**: None\n",
      "- **KeyTerms**: Quality standards as per ISO 9001\n",
      "- **NegotiationRecommendation**: Specify quality standards\n",
      "\n",
      "### 3. Procurement Contract\n",
      "- **SupplierName**: Supplier_6\n",
      "- **RiskLevel**: High\n",
      "- **ComplianceIssues**: Substandard Quality\n",
      "- **KeyTerms**: Delivery within 60 days\n",
      "- **NegotiationRecommendation**: Include penalty clauses for late delivery\n",
      "\n",
      "### 4. Service Agreement\n",
      "- **SupplierName**: Supplier_7\n",
      "- **RiskLevel**: High\n",
      "- **ComplianceIssues**: Substandard Quality\n",
      "- **KeyTerms**: Payment within 30 days\n",
      "- **NegotiationRecommendation**: Seek alternative suppliers\n",
      "\n",
      "### 5. Procurement Contract\n",
      "- **SupplierName**: Supplier_12\n",
      "- **RiskLevel**: High\n",
      "- **ComplianceIssues**: Non-Compliance with Standards\n",
      "- **KeyTerms**: Delivery within 60 days\n",
      "- **NegotiationRecommendation**: Adjust delivery schedules\n",
      "\n",
      "### 6. Service Agreement\n",
      "- **SupplierName**: Supplier_13\n",
      "- **RiskLevel**: High\n",
      "- **ComplianceIssues**: Substandard Quality\n",
      "- **KeyTerms**: Penalty for late delivery\n",
      "- **NegotiationRecommendation**: Specify quality standards\n",
      "\n",
      "### 7. Supply Agreement\n",
      "- **SupplierName**: Supplier_15\n",
      "- **RiskLevel**: High\n",
      "- **ComplianceIssues**: None\n",
      "- **KeyTerms**: Regular performance reviews\n",
      "- **NegotiationRecommendation**: Include compliance monitoring\n",
      "\n",
      "### 8. Procurement Contract\n",
      "- **SupplierName**: Supplier_21\n",
      "- **RiskLevel**: High\n",
      "- **ComplianceIssues**: Non-Compliance with Standards\n",
      "- **KeyTerms**: Penalty for late delivery\n",
      "- **NegotiationRecommendation**: Specify quality standards\n",
      "\n",
      "### 9. Procurement Contract\n",
      "- **SupplierName**: Supplier_28\n",
      "- **RiskLevel**: High\n",
      "- **ComplianceIssues**: Non-Compliance with Standards\n",
      "- **KeyTerms**: Regular performance reviews\n",
      "- **NegotiationRecommendation**: Include compliance monitoring\n",
      "\n",
      "### 10. Distribution Agreement\n",
      "- **SupplierName**: Supplier_32\n",
      "- **RiskLevel**: High\n",
      "- **ComplianceIssues**: Late Delivery\n",
      "- **KeyTerms**: Quality standards as per ISO 9001\n",
      "- **NegotiationRecommendation**: Include penalty clauses for late delivery\n",
      "\n",
      "### General Negotiation Recommendations for High-Risk Contracts:\n",
      "- **Adjust Delivery Schedules**: When late delivery is a concern, reassess timelines.\n",
      "- **Specify Quality Standards**: Ensure clarity in quality expectations using verifiable benchmarks (e.g., ISO standards).\n",
      "- **Include Penalty Clauses**: Define penalties for non-compliance (e.g., late delivery, substandard quality) as a deterrent.\n",
      "- **Regular Performance Reviews**: Implement frequent checks to monitor compliance and performance.\n",
      "- **Seek Alternative Suppliers**: Consider having a backup plan if current suppliers cannot meet standards.\n",
      "\n",
      "By utilizing these recommendations, organizations can better manage the risks associated with high-risk contracts, improving overall supply chain reliability and quality.\n"
     ]
    }
   ],
   "source": [
    "# Function to perform the search on supplier contracts based on query\n",
    "def search(query, filter_dict=None, max_results=10):\n",
    "    # Filter the DataFrame based on risk level (if provided)\n",
    "    if filter_dict:\n",
    "        filtered_df = df[df['risklevel'] == filter_dict.get('risklevel', '')]\n",
    "    else:\n",
    "        filtered_df = df\n",
    "    # Convert the filtered data to a list of dictionaries and limit the number of results\n",
    "    results = filtered_df.to_dict(orient='records')[:max_results]\n",
    "    return results\n",
    "\n",
    "# Function to build a clearer prompt for Groq API\n",
    "def build_clear_prompt(query, search_results):\n",
    "    context = \"\"\n",
    "    \n",
    "    for doc in search_results:\n",
    "        context += (\n",
    "            f\"- **ContractType**: {doc['contracttype']}\\n\"\n",
    "            f\"  **SupplierName**: {doc['suppliername']}\\n\"\n",
    "            f\"  **RiskLevel**: {doc['risklevel']}\\n\"\n",
    "            f\"  **ComplianceIssues**: {doc['complianceissues']}\\n\"\n",
    "            f\"  **KeyTerms**: {doc['keyterms']}\\n\"\n",
    "            f\"  **NegotiationRecommendation**: {doc['negotiationrecommendation']}\\n\\n\"\n",
    "        )\n",
    "    \n",
    "    prompt = (\n",
    "      \n",
    "        f\"QUESTION: {query}\\n\\n\"\n",
    "        f\"CONTEXT:\\n{context}\"\n",
    "    )\n",
    "    \n",
    "    return prompt\n",
    "\n",
    "# Function to call the LLM (Groq API)\n",
    "def llm(prompt, model='gpt-4o-mini'):\n",
    "    # Assuming `client` is the Groq API client instance\n",
    "    response = client.chat.completions.create(\n",
    "        model=model,\n",
    "        messages=[{\"role\": \"user\", \"content\": prompt}]\n",
    "    )\n",
    "    \n",
    "    return response.choices[0].message.content\n",
    "\n",
    "# Function to perform the full RAG (Retrieve and Generate) process\n",
    "def rag(query, model='gpt-4o-mini'):\n",
    "    # Search for high-risk contracts (you can modify filter_dict based on needs)\n",
    "    search_results = search(query, filter_dict={'risklevel': 'High'})\n",
    "    \n",
    "    # Build the prompt using the search results\n",
    "    prompt = build_clear_prompt(query, search_results)\n",
    "    \n",
    "    # Get the LLM response based on the prompt\n",
    "    answer = llm(prompt, model=model)\n",
    "    \n",
    "    return answer\n",
    "\n",
    "# Example usage\n",
    "question = \"Give contract types and their negotiation recommendations for high-risk contracts\"\n",
    "answer = rag(question)\n",
    "print(answer)\n"
   ]
  },
  {
   "cell_type": "markdown",
   "id": "2f87d9c7-7030-4aa2-85c4-475f38ff510c",
   "metadata": {},
   "source": [
    "**Retrieval Evaluation**"
   ]
  },
  {
   "cell_type": "code",
   "execution_count": 12,
   "id": "f9e0a5b5-ba46-425c-9bdd-f4743dd52fef",
   "metadata": {},
   "outputs": [],
   "source": []
  },
  {
   "cell_type": "code",
   "execution_count": 13,
   "id": "9d80cba8-22c8-4707-987e-d3cd2d350788",
   "metadata": {},
   "outputs": [],
   "source": []
  },
  {
   "cell_type": "code",
   "execution_count": 14,
   "id": "61091639-6d25-4128-a9b2-27ef393e37fd",
   "metadata": {},
   "outputs": [
    {
     "data": {
      "text/plain": [
       "{'id': 0, 'question': 'What is the starting position for doing push-ups?'}"
      ]
     },
     "execution_count": 14,
     "metadata": {},
     "output_type": "execute_result"
    }
   ],
   "source": []
  }
 ],
 "metadata": {
  "kernelspec": {
   "display_name": "Python 3 (ipykernel)",
   "language": "python",
   "name": "python3"
  },
  "language_info": {
   "codemirror_mode": {
    "name": "ipython",
    "version": 3
   },
   "file_extension": ".py",
   "mimetype": "text/x-python",
   "name": "python",
   "nbconvert_exporter": "python",
   "pygments_lexer": "ipython3",
   "version": "3.12.1"
  }
 },
 "nbformat": 4,
 "nbformat_minor": 5
}
